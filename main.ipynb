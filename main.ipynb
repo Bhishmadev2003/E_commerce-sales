{
 "cells": [
  {
   "cell_type": "code",
   "execution_count": 1,
   "id": "674fc59c",
   "metadata": {},
   "outputs": [],
   "source": [
    "import pandas as pd"
   ]
  },
  {
   "cell_type": "code",
   "execution_count": 2,
   "id": "fb383993",
   "metadata": {},
   "outputs": [],
   "source": [
    "df = pd.read_csv(\"Ecommerce_Delivery_Analytics.csv\", encoding='unicode_escape')"
   ]
  },
  {
   "cell_type": "code",
   "execution_count": 3,
   "id": "dfe5104a",
   "metadata": {},
   "outputs": [
    {
     "name": "stdout",
     "output_type": "stream",
     "text": [
      "        Order_ID Customer_ID Platform   Order_Time  Delivery_Time  \\\n",
      "0      ORD000001    CUST2824  JioMart  12:19:30 AM             30   \n",
      "1      ORD000002    CUST1409  Blinkit  12:54:30 AM             16   \n",
      "2      ORD000003    CUST5506  JioMart  12:21:29 AM             25   \n",
      "3      ORD000004    CUST5012  JioMart  12:19:30 AM             42   \n",
      "4      ORD000005    CUST4657  Blinkit  12:49:30 AM             30   \n",
      "...          ...         ...      ...          ...            ...   \n",
      "99995  ORD099996    CUST5324  JioMart  12:49:30 AM             24   \n",
      "99996  ORD099997    CUST1677  JioMart  12:18:30 AM             19   \n",
      "99997  ORD099998    CUST8198  JioMart  12:27:29 AM             41   \n",
      "99998  ORD099999    CUST9975  JioMart  12:14:29 AM             31   \n",
      "99999  ORD100000    CUST3748  JioMart  12:41:30 AM             34   \n",
      "\n",
      "          Product_Category  Order_Value  Service_Rating  \n",
      "0      Fruits & Vegetables          382               5  \n",
      "1                    Dairy          279               5  \n",
      "2                Beverages          599               2  \n",
      "3                Beverages          946               2  \n",
      "4                Beverages          334               5  \n",
      "...                    ...          ...             ...  \n",
      "99995                Dairy          289               3  \n",
      "99996               Snacks          322               4  \n",
      "99997                Dairy          135               5  \n",
      "99998              Grocery          973               5  \n",
      "99999  Fruits & Vegetables          453               3  \n",
      "\n",
      "[100000 rows x 8 columns]\n"
     ]
    }
   ],
   "source": [
    "print(df)"
   ]
  },
  {
   "cell_type": "code",
   "execution_count": 4,
   "id": "a89462a8",
   "metadata": {},
   "outputs": [
    {
     "data": {
      "text/plain": [
       "(100000, 8)"
      ]
     },
     "execution_count": 4,
     "metadata": {},
     "output_type": "execute_result"
    }
   ],
   "source": [
    "df.shape"
   ]
  },
  {
   "cell_type": "code",
   "execution_count": 5,
   "id": "c923af34",
   "metadata": {},
   "outputs": [
    {
     "data": {
      "text/plain": [
       "Index(['Order_ID', 'Customer_ID', 'Platform', 'Order_Time', 'Delivery_Time',\n",
       "       'Product_Category', 'Order_Value', 'Service_Rating'],\n",
       "      dtype='object')"
      ]
     },
     "execution_count": 5,
     "metadata": {},
     "output_type": "execute_result"
    }
   ],
   "source": [
    "df.columns"
   ]
  },
  {
   "cell_type": "code",
   "execution_count": 6,
   "id": "de1a1904",
   "metadata": {},
   "outputs": [
    {
     "data": {
      "text/html": [
       "<div>\n",
       "<style scoped>\n",
       "    .dataframe tbody tr th:only-of-type {\n",
       "        vertical-align: middle;\n",
       "    }\n",
       "\n",
       "    .dataframe tbody tr th {\n",
       "        vertical-align: top;\n",
       "    }\n",
       "\n",
       "    .dataframe thead th {\n",
       "        text-align: right;\n",
       "    }\n",
       "</style>\n",
       "<table border=\"1\" class=\"dataframe\">\n",
       "  <thead>\n",
       "    <tr style=\"text-align: right;\">\n",
       "      <th></th>\n",
       "      <th>Order_ID</th>\n",
       "      <th>Customer_ID</th>\n",
       "      <th>Platform</th>\n",
       "      <th>Order_Time</th>\n",
       "      <th>Delivery_Time</th>\n",
       "      <th>Product_Category</th>\n",
       "      <th>Order_Value</th>\n",
       "      <th>Service_Rating</th>\n",
       "    </tr>\n",
       "  </thead>\n",
       "  <tbody>\n",
       "    <tr>\n",
       "      <th>0</th>\n",
       "      <td>ORD000001</td>\n",
       "      <td>CUST2824</td>\n",
       "      <td>JioMart</td>\n",
       "      <td>12:19:30 AM</td>\n",
       "      <td>30</td>\n",
       "      <td>Fruits &amp; Vegetables</td>\n",
       "      <td>382</td>\n",
       "      <td>5</td>\n",
       "    </tr>\n",
       "    <tr>\n",
       "      <th>1</th>\n",
       "      <td>ORD000002</td>\n",
       "      <td>CUST1409</td>\n",
       "      <td>Blinkit</td>\n",
       "      <td>12:54:30 AM</td>\n",
       "      <td>16</td>\n",
       "      <td>Dairy</td>\n",
       "      <td>279</td>\n",
       "      <td>5</td>\n",
       "    </tr>\n",
       "    <tr>\n",
       "      <th>2</th>\n",
       "      <td>ORD000003</td>\n",
       "      <td>CUST5506</td>\n",
       "      <td>JioMart</td>\n",
       "      <td>12:21:29 AM</td>\n",
       "      <td>25</td>\n",
       "      <td>Beverages</td>\n",
       "      <td>599</td>\n",
       "      <td>2</td>\n",
       "    </tr>\n",
       "    <tr>\n",
       "      <th>3</th>\n",
       "      <td>ORD000004</td>\n",
       "      <td>CUST5012</td>\n",
       "      <td>JioMart</td>\n",
       "      <td>12:19:30 AM</td>\n",
       "      <td>42</td>\n",
       "      <td>Beverages</td>\n",
       "      <td>946</td>\n",
       "      <td>2</td>\n",
       "    </tr>\n",
       "    <tr>\n",
       "      <th>4</th>\n",
       "      <td>ORD000005</td>\n",
       "      <td>CUST4657</td>\n",
       "      <td>Blinkit</td>\n",
       "      <td>12:49:30 AM</td>\n",
       "      <td>30</td>\n",
       "      <td>Beverages</td>\n",
       "      <td>334</td>\n",
       "      <td>5</td>\n",
       "    </tr>\n",
       "  </tbody>\n",
       "</table>\n",
       "</div>"
      ],
      "text/plain": [
       "    Order_ID Customer_ID Platform   Order_Time  Delivery_Time  \\\n",
       "0  ORD000001    CUST2824  JioMart  12:19:30 AM             30   \n",
       "1  ORD000002    CUST1409  Blinkit  12:54:30 AM             16   \n",
       "2  ORD000003    CUST5506  JioMart  12:21:29 AM             25   \n",
       "3  ORD000004    CUST5012  JioMart  12:19:30 AM             42   \n",
       "4  ORD000005    CUST4657  Blinkit  12:49:30 AM             30   \n",
       "\n",
       "      Product_Category  Order_Value  Service_Rating  \n",
       "0  Fruits & Vegetables          382               5  \n",
       "1                Dairy          279               5  \n",
       "2            Beverages          599               2  \n",
       "3            Beverages          946               2  \n",
       "4            Beverages          334               5  "
      ]
     },
     "execution_count": 6,
     "metadata": {},
     "output_type": "execute_result"
    }
   ],
   "source": [
    "df.head()"
   ]
  },
  {
   "cell_type": "code",
   "execution_count": 7,
   "id": "587e7cce",
   "metadata": {},
   "outputs": [
    {
     "data": {
      "text/html": [
       "<div>\n",
       "<style scoped>\n",
       "    .dataframe tbody tr th:only-of-type {\n",
       "        vertical-align: middle;\n",
       "    }\n",
       "\n",
       "    .dataframe tbody tr th {\n",
       "        vertical-align: top;\n",
       "    }\n",
       "\n",
       "    .dataframe thead th {\n",
       "        text-align: right;\n",
       "    }\n",
       "</style>\n",
       "<table border=\"1\" class=\"dataframe\">\n",
       "  <thead>\n",
       "    <tr style=\"text-align: right;\">\n",
       "      <th></th>\n",
       "      <th>Order_ID</th>\n",
       "      <th>Customer_ID</th>\n",
       "      <th>Platform</th>\n",
       "      <th>Order_Time</th>\n",
       "      <th>Delivery_Time</th>\n",
       "      <th>Product_Category</th>\n",
       "      <th>Order_Value</th>\n",
       "      <th>Service_Rating</th>\n",
       "    </tr>\n",
       "  </thead>\n",
       "  <tbody>\n",
       "    <tr>\n",
       "      <th>99995</th>\n",
       "      <td>ORD099996</td>\n",
       "      <td>CUST5324</td>\n",
       "      <td>JioMart</td>\n",
       "      <td>12:49:30 AM</td>\n",
       "      <td>24</td>\n",
       "      <td>Dairy</td>\n",
       "      <td>289</td>\n",
       "      <td>3</td>\n",
       "    </tr>\n",
       "    <tr>\n",
       "      <th>99996</th>\n",
       "      <td>ORD099997</td>\n",
       "      <td>CUST1677</td>\n",
       "      <td>JioMart</td>\n",
       "      <td>12:18:30 AM</td>\n",
       "      <td>19</td>\n",
       "      <td>Snacks</td>\n",
       "      <td>322</td>\n",
       "      <td>4</td>\n",
       "    </tr>\n",
       "    <tr>\n",
       "      <th>99997</th>\n",
       "      <td>ORD099998</td>\n",
       "      <td>CUST8198</td>\n",
       "      <td>JioMart</td>\n",
       "      <td>12:27:29 AM</td>\n",
       "      <td>41</td>\n",
       "      <td>Dairy</td>\n",
       "      <td>135</td>\n",
       "      <td>5</td>\n",
       "    </tr>\n",
       "    <tr>\n",
       "      <th>99998</th>\n",
       "      <td>ORD099999</td>\n",
       "      <td>CUST9975</td>\n",
       "      <td>JioMart</td>\n",
       "      <td>12:14:29 AM</td>\n",
       "      <td>31</td>\n",
       "      <td>Grocery</td>\n",
       "      <td>973</td>\n",
       "      <td>5</td>\n",
       "    </tr>\n",
       "    <tr>\n",
       "      <th>99999</th>\n",
       "      <td>ORD100000</td>\n",
       "      <td>CUST3748</td>\n",
       "      <td>JioMart</td>\n",
       "      <td>12:41:30 AM</td>\n",
       "      <td>34</td>\n",
       "      <td>Fruits &amp; Vegetables</td>\n",
       "      <td>453</td>\n",
       "      <td>3</td>\n",
       "    </tr>\n",
       "  </tbody>\n",
       "</table>\n",
       "</div>"
      ],
      "text/plain": [
       "        Order_ID Customer_ID Platform   Order_Time  Delivery_Time  \\\n",
       "99995  ORD099996    CUST5324  JioMart  12:49:30 AM             24   \n",
       "99996  ORD099997    CUST1677  JioMart  12:18:30 AM             19   \n",
       "99997  ORD099998    CUST8198  JioMart  12:27:29 AM             41   \n",
       "99998  ORD099999    CUST9975  JioMart  12:14:29 AM             31   \n",
       "99999  ORD100000    CUST3748  JioMart  12:41:30 AM             34   \n",
       "\n",
       "          Product_Category  Order_Value  Service_Rating  \n",
       "99995                Dairy          289               3  \n",
       "99996               Snacks          322               4  \n",
       "99997                Dairy          135               5  \n",
       "99998              Grocery          973               5  \n",
       "99999  Fruits & Vegetables          453               3  "
      ]
     },
     "execution_count": 7,
     "metadata": {},
     "output_type": "execute_result"
    }
   ],
   "source": [
    "df.tail()"
   ]
  },
  {
   "cell_type": "code",
   "execution_count": 8,
   "id": "4a068146",
   "metadata": {},
   "outputs": [
    {
     "data": {
      "text/html": [
       "<div>\n",
       "<style scoped>\n",
       "    .dataframe tbody tr th:only-of-type {\n",
       "        vertical-align: middle;\n",
       "    }\n",
       "\n",
       "    .dataframe tbody tr th {\n",
       "        vertical-align: top;\n",
       "    }\n",
       "\n",
       "    .dataframe thead th {\n",
       "        text-align: right;\n",
       "    }\n",
       "</style>\n",
       "<table border=\"1\" class=\"dataframe\">\n",
       "  <thead>\n",
       "    <tr style=\"text-align: right;\">\n",
       "      <th></th>\n",
       "      <th>Delivery_Time</th>\n",
       "      <th>Order_Value</th>\n",
       "      <th>Service_Rating</th>\n",
       "    </tr>\n",
       "  </thead>\n",
       "  <tbody>\n",
       "    <tr>\n",
       "      <th>count</th>\n",
       "      <td>100000.000000</td>\n",
       "      <td>100000.000000</td>\n",
       "      <td>100000.000000</td>\n",
       "    </tr>\n",
       "    <tr>\n",
       "      <th>mean</th>\n",
       "      <td>29.536140</td>\n",
       "      <td>590.994400</td>\n",
       "      <td>3.240790</td>\n",
       "    </tr>\n",
       "    <tr>\n",
       "      <th>std</th>\n",
       "      <td>9.958933</td>\n",
       "      <td>417.409058</td>\n",
       "      <td>1.575962</td>\n",
       "    </tr>\n",
       "    <tr>\n",
       "      <th>min</th>\n",
       "      <td>5.000000</td>\n",
       "      <td>50.000000</td>\n",
       "      <td>1.000000</td>\n",
       "    </tr>\n",
       "    <tr>\n",
       "      <th>25%</th>\n",
       "      <td>23.000000</td>\n",
       "      <td>283.000000</td>\n",
       "      <td>2.000000</td>\n",
       "    </tr>\n",
       "    <tr>\n",
       "      <th>50%</th>\n",
       "      <td>30.000000</td>\n",
       "      <td>481.000000</td>\n",
       "      <td>3.000000</td>\n",
       "    </tr>\n",
       "    <tr>\n",
       "      <th>75%</th>\n",
       "      <td>36.000000</td>\n",
       "      <td>770.000000</td>\n",
       "      <td>5.000000</td>\n",
       "    </tr>\n",
       "    <tr>\n",
       "      <th>max</th>\n",
       "      <td>76.000000</td>\n",
       "      <td>2000.000000</td>\n",
       "      <td>5.000000</td>\n",
       "    </tr>\n",
       "  </tbody>\n",
       "</table>\n",
       "</div>"
      ],
      "text/plain": [
       "       Delivery_Time    Order_Value  Service_Rating\n",
       "count  100000.000000  100000.000000   100000.000000\n",
       "mean       29.536140     590.994400        3.240790\n",
       "std         9.958933     417.409058        1.575962\n",
       "min         5.000000      50.000000        1.000000\n",
       "25%        23.000000     283.000000        2.000000\n",
       "50%        30.000000     481.000000        3.000000\n",
       "75%        36.000000     770.000000        5.000000\n",
       "max        76.000000    2000.000000        5.000000"
      ]
     },
     "execution_count": 8,
     "metadata": {},
     "output_type": "execute_result"
    }
   ],
   "source": [
    "df.describe()"
   ]
  },
  {
   "cell_type": "code",
   "execution_count": 9,
   "id": "c5f4e77a",
   "metadata": {},
   "outputs": [
    {
     "name": "stdout",
     "output_type": "stream",
     "text": [
      "<class 'pandas.core.frame.DataFrame'>\n",
      "RangeIndex: 100000 entries, 0 to 99999\n",
      "Data columns (total 8 columns):\n",
      " #   Column            Non-Null Count   Dtype \n",
      "---  ------            --------------   ----- \n",
      " 0   Order_ID          100000 non-null  object\n",
      " 1   Customer_ID       100000 non-null  object\n",
      " 2   Platform          100000 non-null  object\n",
      " 3   Order_Time        100000 non-null  object\n",
      " 4   Delivery_Time     100000 non-null  int64 \n",
      " 5   Product_Category  100000 non-null  object\n",
      " 6   Order_Value       100000 non-null  int64 \n",
      " 7   Service_Rating    100000 non-null  int64 \n",
      "dtypes: int64(3), object(5)\n",
      "memory usage: 6.1+ MB\n"
     ]
    }
   ],
   "source": [
    "df.info()"
   ]
  },
  {
   "cell_type": "code",
   "execution_count": 10,
   "id": "d48f9e31",
   "metadata": {},
   "outputs": [],
   "source": [
    "df.dropna(inplace=True)"
   ]
  },
  {
   "cell_type": "code",
   "execution_count": 11,
   "id": "d41e6248",
   "metadata": {},
   "outputs": [
    {
     "data": {
      "text/plain": [
       "Order_ID            0\n",
       "Customer_ID         0\n",
       "Platform            0\n",
       "Order_Time          0\n",
       "Delivery_Time       0\n",
       "Product_Category    0\n",
       "Order_Value         0\n",
       "Service_Rating      0\n",
       "dtype: int64"
      ]
     },
     "execution_count": 11,
     "metadata": {},
     "output_type": "execute_result"
    }
   ],
   "source": [
    "pd.isnull(df).sum()"
   ]
  }
 ],
 "metadata": {
  "kernelspec": {
   "display_name": "Python 3",
   "language": "python",
   "name": "python3"
  },
  "language_info": {
   "codemirror_mode": {
    "name": "ipython",
    "version": 3
   },
   "file_extension": ".py",
   "mimetype": "text/x-python",
   "name": "python",
   "nbconvert_exporter": "python",
   "pygments_lexer": "ipython3",
   "version": "3.13.2"
  }
 },
 "nbformat": 4,
 "nbformat_minor": 5
}
